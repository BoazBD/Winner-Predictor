{
 "cells": [
  {
   "cell_type": "code",
   "execution_count": null,
   "metadata": {},
   "outputs": [],
   "source": [
    "import pandas as pd\n",
    "\n",
    "pd.set_option(\"display.max_rows\", 15000)\n",
    "pd.set_option(\"display.max_columns\", 1000)\n",
    "import boto3\n",
    "import awswrangler as wr\n",
    "\n",
    "boto3.setup_default_session(region_name=\"il-central-1\")"
   ]
  },
  {
   "cell_type": "code",
   "execution_count": null,
   "metadata": {},
   "outputs": [],
   "source": [
    "database = \"winner-db\"\n",
    "odds = wr.athena.read_sql_query(\"SELECT * FROM api_odds\", database=database)"
   ]
  },
  {
   "cell_type": "code",
   "execution_count": null,
   "metadata": {},
   "outputs": [],
   "source": [
    "from api_request.api_scraper import generate_unique_id\n",
    "odds.rename(columns={\"id\": \"result_id\"}, inplace=True)\n",
    "odds[\"unique_id\"] = odds.apply(generate_unique_id, axis=1)"
   ]
  },
  {
   "cell_type": "code",
   "execution_count": null,
   "metadata": {},
   "outputs": [],
   "source": [
    "wr.s3.to_parquet(\n",
    "    odds,\n",
    "    path=\"s3://boaz-winner-api/bets\",\n",
    "    dataset=True,\n",
    "    database=database,\n",
    "    table=\"api-odds\",\n",
    "    partition_cols=[\"date_parsed\", \"type\"],\n",
    "    mode=\"overwrite_partitions\",\n",
    ")"
   ]
  }
 ],
 "metadata": {
  "kernelspec": {
   "display_name": ".venv",
   "language": "python",
   "name": "python3"
  },
  "language_info": {
   "codemirror_mode": {
    "name": "ipython",
    "version": 3
   },
   "file_extension": ".py",
   "mimetype": "text/x-python",
   "name": "python",
   "nbconvert_exporter": "python",
   "pygments_lexer": "ipython3",
   "version": "3.11.3"
  }
 },
 "nbformat": 4,
 "nbformat_minor": 2
}
