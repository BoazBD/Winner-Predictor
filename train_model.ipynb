{
 "cells": [
  {
   "cell_type": "code",
   "execution_count": 7,
   "metadata": {},
   "outputs": [],
   "source": [
    "import pandas as pd\n",
    "\n",
    "pd.set_option(\"display.max_rows\", 15000)\n",
    "pd.set_option(\"display.max_columns\", 1000)\n",
    "import boto3\n",
    "import awswrangler as wr\n",
    "import numpy as np\n",
    "boto3.setup_default_session(region_name=\"il-central-1\")"
   ]
  },
  {
   "cell_type": "code",
   "execution_count": null,
   "metadata": {},
   "outputs": [],
   "source": [
    "database = \"winner-db\"\n",
    "\n",
    "gold = wr.athena.read_sql_query(\"SELECT * FROM gold\", database=database)"
   ]
  },
  {
   "cell_type": "code",
   "execution_count": 3,
   "metadata": {},
   "outputs": [],
   "source": [
    "grouped_gold = list(gold.sort_values(by=\"run_time\").groupby([\"id\", \"option1\"]))"
   ]
  },
  {
   "cell_type": "code",
   "execution_count": null,
   "metadata": {},
   "outputs": [],
   "source": [
    "gold.head()"
   ]
  },
  {
   "cell_type": "code",
   "execution_count": null,
   "metadata": {},
   "outputs": [],
   "source": [
    "import tensorflow as tf\n",
    "import numpy as np\n",
    "from tensorflow.keras.models import Sequential\n",
    "from tensorflow.keras.layers import LSTM, Dense, Dropout\n",
    "\n",
    "\n",
    "def prepare_data(grouped_data, MAX_SEQ_LENGTH=1000):\n",
    "    X_train, y_train, X_test, y_test = [], [], [], []\n",
    "    for name, group_df in grouped_data:\n",
    "        # Separate features (odds & ratios) and target\n",
    "        features = group_df[[\"ratio1\", \"ratio2\", \"ratio3\"]].astype(float).fillna(0.0)\n",
    "        target = group_df[[\"bet1_won\", \"bet2_won\", \"tie_won\"]].values[-1].astype(float)\n",
    "\n",
    "        padding_length = MAX_SEQ_LENGTH - features.shape[0]  # Calculate padding length\n",
    "\n",
    "        if padding_length > 0:\n",
    "            padded_features = np.zeros((MAX_SEQ_LENGTH, features.shape[1]))\n",
    "            padded_features[padding_length:, :] = (\n",
    "                features.to_numpy()\n",
    "            )  # Copy data from the end\n",
    "        else:\n",
    "            padded_features = features.to_numpy()  # No padding needed, use data as is\n",
    "\n",
    "        # Randomly assign to training or testing set (80% train, 20% test)\n",
    "        if np.random.rand() < 0.8:\n",
    "            X_train.append(padded_features)\n",
    "            y_train.append(target)  # Use the last target\n",
    "        else:\n",
    "            X_test.append(padded_features)\n",
    "            y_test.append(target)\n",
    "\n",
    "    X_train = np.array(X_train)\n",
    "    X_test = np.array(X_test)\n",
    "    y_train = np.array(y_train)\n",
    "    y_test = np.array(y_test)\n",
    "\n",
    "    return X_train, y_train, X_test, y_test\n",
    "\n",
    "# Prepare training and testing data\n",
    "X_train, y_train, X_test, y_test = prepare_data(grouped_gold)\n",
    "\n",
    "# Define and build the LSTM model\n",
    "model = Sequential()\n",
    "model.add(\n",
    "    LSTM(64, return_sequences=True, input_shape=(X_train.shape[1], X_train.shape[2]))\n",
    ")\n",
    "model.add(LSTM(32, activation=\"sigmoid\", return_sequences=True))\n",
    "\n",
    "model.add(LSTM(32, activation=\"sigmoid\"))\n",
    "model.add(Dropout(0.2))\n",
    "model.add(Dense(3, activation=\"sigmoid\"))\n",
    "\n",
    "optimizer = tf.keras.optimizers.Adam(learning_rate=0.001,clipvalue=1.0)\n",
    "model.compile(loss=\"binary_crossentropy\", optimizer=optimizer, metrics=[\"accuracy\"])\n",
    "\n",
    "# Train the model\n",
    "model.fit(X_train, y_train, epochs=10, batch_size=32, validation_data=(X_test, y_test))\n",
    "\n",
    "# Evaluate the model (optional)\n",
    "loss, accuracy = model.evaluate(X_test, y_test)\n",
    "print(f\"Test Loss: {loss:.4f}, Test Accuracy: {accuracy:.4f}\")\n",
    "\n",
    "model.save(\"model_prototype.h5\")"
   ]
  }
 ],
 "metadata": {
  "kernelspec": {
   "display_name": "myenv",
   "language": "python",
   "name": "python3"
  },
  "language_info": {
   "codemirror_mode": {
    "name": "ipython",
    "version": 3
   },
   "file_extension": ".py",
   "mimetype": "text/x-python",
   "name": "python",
   "nbconvert_exporter": "python",
   "pygments_lexer": "ipython3",
   "version": "3.11.3"
  }
 },
 "nbformat": 4,
 "nbformat_minor": 2
}
